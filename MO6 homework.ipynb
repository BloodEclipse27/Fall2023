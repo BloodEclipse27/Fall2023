{
 "cells": [
  {
   "cell_type": "code",
   "execution_count": 11,
   "id": "e18b908d-9ce5-4a59-aa0c-be3e31386c67",
   "metadata": {
    "tags": []
   },
   "outputs": [
    {
     "name": "stdout",
     "output_type": "stream",
     "text": [
      "2023-11-30 00:00:00\n"
     ]
    }
   ],
   "source": [
    "from datetime import date, datetime\n",
    "\n",
    "# 13.1\n",
    "now = date.today()\n",
    "now_str = now.isoformat()\n",
    "with open('today.txt', 'wt') as output:\n",
    "    print(now_str, file=output)\n",
    "\n",
    "# 13.2\n",
    "with open('today.txt', 'rt') as input:\n",
    "    today_string = input.read()\n",
    "\n",
    "# 13.3\n",
    "fmt = '%Y-%m-%d\\n'\n",
    "the_date = datetime.strptime(today_string, fmt)\n",
    "print(the_date)"
   ]
  },
  {
   "cell_type": "code",
   "execution_count": 16,
   "id": "1a1c6dcb-7678-475a-90d4-51e75b6629d4",
   "metadata": {
    "tags": []
   },
   "outputs": [],
   "source": [
    "#15.1\n",
    "import multiprocessing\n",
    "\n",
    "def now(seconds):\n",
    "    from datetime import datetime\n",
    "    from time import sleep\n",
    "    sleep(seconds)\n",
    "    print(\"wait!\", seconds, \"seconds, time is\", datetime.utcnow())\n",
    "\n",
    "if __name__ == \"__main__\":\n",
    "    import random\n",
    "    for n in range(3):\n",
    "        seconds = random.random()\n",
    "        proc = multiprocessing.Process(target=now, args=(seconds,))\n",
    "        proc.start()\n"
   ]
  },
  {
   "cell_type": "code",
   "execution_count": null,
   "id": "0d758ca6-0f05-4c6c-b0b3-8070c302efd6",
   "metadata": {},
   "outputs": [],
   "source": []
  },
  {
   "cell_type": "code",
   "execution_count": null,
   "id": "72ba8274-9e55-49d7-b1b9-412f6baf4252",
   "metadata": {},
   "outputs": [],
   "source": []
  }
 ],
 "metadata": {
  "kernelspec": {
   "display_name": "Python 3 (ipykernel)",
   "language": "python",
   "name": "python3"
  },
  "language_info": {
   "codemirror_mode": {
    "name": "ipython",
    "version": 3
   },
   "file_extension": ".py",
   "mimetype": "text/x-python",
   "name": "python",
   "nbconvert_exporter": "python",
   "pygments_lexer": "ipython3",
   "version": "3.11.5"
  }
 },
 "nbformat": 4,
 "nbformat_minor": 5
}
