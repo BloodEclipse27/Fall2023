{
 "cells": [
  {
   "cell_type": "code",
   "execution_count": 17,
   "id": "77f00047",
   "metadata": {},
   "outputs": [
    {
     "name": "stdout",
     "output_type": "stream",
     "text": [
      "['mozzarella', 'Cinderella', 'salmonella']\n",
      "['MOZZARELLA', 'Cinderella', 'salmonella']\n",
      "['MOZZARELLA', 'Cinderella']\n"
     ]
    }
   ],
   "source": [
    "#7.4\n",
    "things = [\"mozzarella\", \"cinderella\", \"salmonella\"]\n",
    "\n",
    "#7.5\n",
    "things[1] = things[1].capitalize() #tells the code to capitalize \"Cinderella\" and put it back in the list\n",
    "#Yes, it did change the element of the list by making the first letter uppercase\n",
    "print(things)\n",
    "\n",
    "#7.6\n",
    "things[0] = things[0].upper() #Changes mozzarella to MOZZARELLA\n",
    "\n",
    "print(things)\n",
    "\n",
    "#7.7\n",
    "things.remove(\"salmonella\") #deletes the 3rd element, salmonella, from the list\n",
    "\n",
    "print(things)"
   ]
  },
  {
   "cell_type": "code",
   "execution_count": 19,
   "id": "422d7a3f",
   "metadata": {},
   "outputs": [
    {
     "data": {
      "text/plain": [
       "['Harry', 'Ron', 'Hermione']"
      ]
     },
     "execution_count": 19,
     "metadata": {},
     "output_type": "execute_result"
    }
   ],
   "source": [
    "#9.1\n",
    "def good():\n",
    "    list = [\"Harry\", \"Ron\", \"Hermione\"]\n",
    "    return list\n",
    "\n",
    "good() #calls the function"
   ]
  },
  {
   "cell_type": "code",
   "execution_count": 20,
   "id": "4ba07aa4",
   "metadata": {},
   "outputs": [
    {
     "name": "stdout",
     "output_type": "stream",
     "text": [
      "Third number's 5\n"
     ]
    }
   ],
   "source": [
    "# 9.2\n",
    "def get_odds():\n",
    "    for number in range(1,10,2):\n",
    "        yield number\n",
    "\n",
    "count = 1\n",
    "#for loop that prints the 3rd number\n",
    "for number in get_odds():\n",
    "    if count == 3:\n",
    "        print(\"Third number's\", number)\n",
    "        break\n",
    "    \n",
    "    count += 1"
   ]
  },
  {
   "cell_type": "code",
   "execution_count": null,
   "id": "f41515d4",
   "metadata": {},
   "outputs": [],
   "source": []
  }
 ],
 "metadata": {
  "kernelspec": {
   "display_name": "Python 3 (ipykernel)",
   "language": "python",
   "name": "python3"
  },
  "language_info": {
   "codemirror_mode": {
    "name": "ipython",
    "version": 3
   },
   "file_extension": ".py",
   "mimetype": "text/x-python",
   "name": "python",
   "nbconvert_exporter": "python",
   "pygments_lexer": "ipython3",
   "version": "3.11.5"
  }
 },
 "nbformat": 4,
 "nbformat_minor": 5
}
