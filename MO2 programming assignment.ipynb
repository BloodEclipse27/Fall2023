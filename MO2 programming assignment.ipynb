{
 "cells": [
  {
   "cell_type": "code",
   "execution_count": 1,
   "id": "38c834c4",
   "metadata": {},
   "outputs": [],
   "source": [
    "#4.1\n",
    "secret = 10\n",
    "guess = 7\n",
    "\n",
    "if guess < secret:\n",
    "    print(\"Too Low!\")\n",
    "elif guess > secret:\n",
    "    print(\"Too High!\")\n",
    "else:\n",
    "    print(\"Just Right!\")"
   ]
  },
  {
   "cell_type": "code",
   "execution_count": 7,
   "id": "76251676",
   "metadata": {},
   "outputs": [
    {
     "name": "stdout",
     "output_type": "stream",
     "text": [
      "The cherry's small, but it's not green\n"
     ]
    }
   ],
   "source": [
    "#4.2\n",
    "small = True\n",
    "green = False\n",
    "\n",
    "if small and not green:\n",
    "    print(\"The cherry's small, but it's not green\")\n",
    "elif small and green:\n",
    "    print(\"The pea's small, and it's green!\")\n",
    "elif green and not small:\n",
    "    print(\"The watermelon's green, but it's not small\")\n",
    "else: \n",
    "    print(\"The pumpkin's not small, and it's not green\")"
   ]
  },
  {
   "cell_type": "code",
   "execution_count": 8,
   "id": "ebe6b46a",
   "metadata": {},
   "outputs": [
    {
     "name": "stdout",
     "output_type": "stream",
     "text": [
      "3\n",
      "2\n",
      "1\n",
      "0\n"
     ]
    }
   ],
   "source": [
    "#6.1\n",
    "list = [3, 2, 1, 0]\n",
    "for i in list:\n",
    "    print(i)"
   ]
  },
  {
   "cell_type": "code",
   "execution_count": null,
   "id": "cffd78db",
   "metadata": {},
   "outputs": [],
   "source": [
    "#6.2\n",
    "guess_me = 7\n",
    "number = 1\n",
    "\n",
    "while guess_me >= number: #compares the 2 varibles\n",
    "    if number < guess_me:\n",
    "        print(\"Too Low!\")\n",
    "    elif number == guess_me:\n",
    "        print(\"Found It!\")\n",
    "        break #Tells the loop to end/exit\n",
    "    else: \n",
    "        print(\"Oops!\") #10/10 HB episode\n",
    "        break\n",
    "        \n",
    "    number += 1 #increment"
   ]
  },
  {
   "cell_type": "code",
   "execution_count": null,
   "id": "192743e9",
   "metadata": {},
   "outputs": [],
   "source": [
    "#6.3\n",
    "guess_me = 5\n",
    "for number in range(10): #helps generte the numbers within the range given starting at 0\n",
    "    if number < guess_me:\n",
    "        print(\"Too Low!\")\n",
    "    elif number == guess_me:\n",
    "        print(\"Found It!\")\n",
    "        break\n",
    "    else:\n",
    "        print(\"Oops!\")\n",
    "        break"
   ]
  },
  {
   "cell_type": "code",
   "execution_count": null,
   "id": "9a9b691d",
   "metadata": {},
   "outputs": [],
   "source": []
  },
  {
   "cell_type": "code",
   "execution_count": null,
   "id": "058e6e30",
   "metadata": {},
   "outputs": [],
   "source": []
  }
 ],
 "metadata": {
  "kernelspec": {
   "display_name": "Python 3 (ipykernel)",
   "language": "python",
   "name": "python3"
  },
  "language_info": {
   "codemirror_mode": {
    "name": "ipython",
    "version": 3
   },
   "file_extension": ".py",
   "mimetype": "text/x-python",
   "name": "python",
   "nbconvert_exporter": "python",
   "pygments_lexer": "ipython3",
   "version": "3.11.5"
  }
 },
 "nbformat": 4,
 "nbformat_minor": 5
}
